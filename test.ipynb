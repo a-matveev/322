#Figure in the E-J plane
n_clues=3
clues1=data_path+"pair_physical_vweb_IC10909.dat"
clues2=data_path+"pair_physical_vweb_IC16953.dat"
clues3=data_path+"pair_physical_vweb_IC2710.dat"
clues=chararray([n_clues], itemsize=1024)
clues[0]=clues1;clues[1]=clues2; clues[2]=clues3
clues_data = np.zeros([n_clues,2])
if(narrow_data):
    n_clues = 1
for i in range(n_clues):
    tmp_dat = np.loadtxt(clues[i])
    clues_data[i,0] = tmp_dat[5] + tmp_dat[6] # energy
    clues_data[i,1] = tmp_dat[7] #angular momentum

filename='test_EJ_'+halo_finder
if(narrow_data):
    filename=filename+'_narrow'
MakeSimple2DPlot(energy,angular_momentum,filename=filename, 
                      clues=clues_data, clues_label='$\mathrm{Constrained\ Sim.}$', xlims=[-25.0,0.0], ylims=[0.0,150.0],
                      nbins=13,nxbins=13,nybins=13,bw=1, 
                      xlabel='$\mathrm{e_{tot} [10^{-36}} \mathrm{Mpc^2\ s^{-2}]}$', 
                      ylabel='$\mathrm{l_{orb} [Mpc\ } \mathrm{km\ s^{-1}]}$', 
                      contours=0, X_field=X, Y_field=Y, Z_field=H, levels=levels)
